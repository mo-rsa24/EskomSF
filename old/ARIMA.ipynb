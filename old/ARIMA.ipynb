{
 "cells": [
  {
   "cell_type": "code",
   "execution_count": 1,
   "id": "ee4f6f49-905e-465f-9f0b-6e6f434d17b2",
   "metadata": {},
   "outputs": [],
   "source": [
    "import warnings\n",
    "warnings.filterwarnings('ignore')\n",
    "from db.queries import get_user_forecast_data, row_to_config\n",
    "from db.utilities import env, logger\n",
    "from etl.etl import *\n",
    "\n",
    "from modeling.autoarima import *"
   ]
  },
  {
   "cell_type": "code",
   "execution_count": 3,
   "id": "6c5cec5d9f524bf3",
   "metadata": {},
   "outputs": [
    {
     "name": "stderr",
     "output_type": "stream",
     "text": [
      "INFO:db.utilities:Running on QA\n"
     ]
    }
   ],
   "source": [
    "logger.info(f\"Running on {env}\")"
   ]
  },
  {
   "cell_type": "code",
   "execution_count": 7,
   "id": "e340585f-d1b3-4925-9e0c-060c7f0b0994",
   "metadata": {},
   "outputs": [
    {
     "data": {
      "text/html": [
       "<div>\n",
       "<style scoped>\n",
       "    .dataframe tbody tr th:only-of-type {\n",
       "        vertical-align: middle;\n",
       "    }\n",
       "\n",
       "    .dataframe tbody tr th {\n",
       "        vertical-align: top;\n",
       "    }\n",
       "\n",
       "    .dataframe thead th {\n",
       "        text-align: right;\n",
       "    }\n",
       "</style>\n",
       "<table border=\"1\" class=\"dataframe\">\n",
       "  <thead>\n",
       "    <tr style=\"text-align: right;\">\n",
       "      <th></th>\n",
       "      <th>StartDate</th>\n",
       "      <th>EndDate</th>\n",
       "      <th>Parameters</th>\n",
       "      <th>Region</th>\n",
       "      <th>Status</th>\n",
       "      <th>ForecastMethodID</th>\n",
       "      <th>UserForecastMethodID</th>\n",
       "      <th>CustomerJSON</th>\n",
       "      <th>varJSON</th>\n",
       "      <th>Method</th>\n",
       "      <th>DatabrickID</th>\n",
       "    </tr>\n",
       "  </thead>\n",
       "  <tbody>\n",
       "    <tr>\n",
       "      <th>0</th>\n",
       "      <td>2025-03-01</td>\n",
       "      <td>2026-03-31</td>\n",
       "      <td>(1,1,1)</td>\n",
       "      <td>EC</td>\n",
       "      <td>Completed</td>\n",
       "      <td>1</td>\n",
       "      <td>68</td>\n",
       "      <td>{\"CustomerID\": [\"8477556503\",\"8688980326\",\"760...</td>\n",
       "      <td>{\"VariableID\": [\"OffPeakConsumption\",\"PeakCons...</td>\n",
       "      <td>ARIMA</td>\n",
       "      <td>1</td>\n",
       "    </tr>\n",
       "  </tbody>\n",
       "</table>\n",
       "</div>"
      ],
      "text/plain": [
       "    StartDate     EndDate Parameters Region     Status  ForecastMethodID  \\\n",
       "0  2025-03-01  2026-03-31    (1,1,1)     EC  Completed                 1   \n",
       "\n",
       "   UserForecastMethodID                                       CustomerJSON  \\\n",
       "0                    68  {\"CustomerID\": [\"8477556503\",\"8688980326\",\"760...   \n",
       "\n",
       "                                             varJSON Method  DatabrickID  \n",
       "0  {\"VariableID\": [\"OffPeakConsumption\",\"PeakCons...  ARIMA            1  "
      ]
     },
     "execution_count": 7,
     "metadata": {},
     "output_type": "execute_result"
    }
   ],
   "source": [
    "ufm_df = get_user_forecast_data(databrick_task_id = databrick_task_id)\n",
    "ufm_df.head()"
   ]
  },
  {
   "cell_type": "code",
   "execution_count": 9,
   "id": "91c1beadf0bffe17",
   "metadata": {},
   "outputs": [
    {
     "data": {
      "text/plain": [
       "ForecastConfig(forecast_method_id=1, forecast_method_name='ARIMA', model_parameters='(1,1,1)', region='EC', status='Completed', user_forecast_method_id=68, start_date=datetime.date(2025, 3, 1), end_date=datetime.date(2026, 3, 31), databrick_id=1)"
      ]
     },
     "execution_count": 9,
     "metadata": {},
     "output_type": "execute_result"
    }
   ],
   "source": [
    "row = ufm_df.iloc[0]\n",
    "ufm_config = row_to_config(row)\n",
    "ufm_config"
   ]
  },
  {
   "cell_type": "code",
   "execution_count": 11,
   "id": "8e99dd0e18071eaa",
   "metadata": {},
   "outputs": [],
   "source": [
    "from etl.etl import *"
   ]
  },
  {
   "cell_type": "code",
   "execution_count": 13,
   "id": "fc9f5ac138271cfa",
   "metadata": {
    "scrolled": true
   },
   "outputs": [
    {
     "name": "stderr",
     "output_type": "stream",
     "text": [
      "INFO:root:Generated 255 column combinations.\n"
     ]
    }
   ],
   "source": [
    "metadata = extract_metadata(ufm_df)\n",
    "customer_ids = parse_json_column(ufm_df, \"CustomerJSON\")\n",
    "variable_ids = parse_json_column(ufm_df, \"varJSON\", key=\"VariableID\")\n",
    "columns_mapping = generate_combinations()\n"
   ]
  },
  {
   "cell_type": "code",
   "execution_count": 15,
   "id": "7700261f0e12518d",
   "metadata": {},
   "outputs": [
    {
     "name": "stderr",
     "output_type": "stream",
     "text": [
      "INFO:root:Customer IDs: ['9959892919', '8431776530', '7340194598', '5796109807', '8618787245', '9940398550', '5049230573', '6126061820', '9618596053', '6443004614', '7604815667', '8688980326', '7298797010', '7323323155', '9572449312', '8477556503', '9437454176', '8059637149', '7397925811', '8076461989', '6174962014', '5945054457']\n",
      "INFO:root:Variable IDs: ['OffPeakConsumption', 'PeakConsumption', 'StandardConsumption']\n",
      "INFO:root:✅ Total column combinations: 255\n"
     ]
    }
   ],
   "source": [
    "logging.info(f\"Customer IDs: {customer_ids}\")\n",
    "logging.info(f\"Variable IDs: {variable_ids}\")\n",
    "logging.info(f\"✅ Total column combinations: {len(columns_mapping)}\")"
   ]
  },
  {
   "cell_type": "code",
   "execution_count": 17,
   "id": "f182a8b2-c829-4564-96e0-099256ae7557",
   "metadata": {},
   "outputs": [
    {
     "name": "stderr",
     "output_type": "stream",
     "text": [
      "INFO:root:Exact match found for: frozenset({'NonTOUConsumption', 'Block3Consumption', 'OffPeakConsumption', 'Block1Consumption', 'StandardConsumption', 'Block2Consumption', 'PeakConsumption', 'Block4Consumption'})\n"
     ]
    }
   ],
   "source": [
    "selected_columns = find_matching_combination(columns_mapping)"
   ]
  },
  {
   "cell_type": "code",
   "execution_count": 19,
   "id": "d1fb1900-9d97-4a4a-ac12-f6370e85b124",
   "metadata": {},
   "outputs": [
    {
     "name": "stderr",
     "output_type": "stream",
     "text": [
      "INFO:root:📂 Loading dataset from data/QA/PredictiveInputDataARIMA.csv\n",
      "INFO:root:✅ Raw dataset loaded.\n",
      "INFO:root:🔄 Converted 'CustomerID' to string.\n",
      "INFO:root:🔢 Data sorted by 'PodID' and 'ReportingMonth'.\n",
      "INFO:root:✅ Raw dataset cleaned.\n",
      "INFO:root:🧹 Data cleaned using 'clean_dataframe'.\n"
     ]
    }
   ],
   "source": [
    "df = load_and_prepare_data(ufmd=ufm_config.user_forecast_method_id, method= ufm_config.forecast_method_name, environment=env)"
   ]
  },
  {
   "cell_type": "code",
   "execution_count": null,
   "id": "2ea42010ffa1120a",
   "metadata": {},
   "outputs": [],
   "source": [
    "from dml.dml import *"
   ]
  },
  {
   "cell_type": "code",
   "execution_count": 29,
   "id": "3104cec0-dcde-487d-87d2-7d12053091c9",
   "metadata": {},
   "outputs": [
    {
     "name": "stderr",
     "output_type": "stream",
     "text": [
      "INFO:root:🧮 Forecasting for 18\n"
     ]
    }
   ],
   "source": [
    "customer_ids, pod_ids = get_unique_list_of_customer_and_pod(df)"
   ]
  },
  {
   "cell_type": "code",
   "execution_count": 31,
   "id": "6e4636b3-7e06-41ff-908c-a0c686122916",
   "metadata": {},
   "outputs": [
    {
     "name": "stderr",
     "output_type": "stream",
     "text": [
      "INFO:root:📅 Forecast period: 2025-03-01 00:00:00 to 2026-03-01 00:00:00\n",
      "INFO:root:📌 Parsed ARIMA Order: (1, 1, 1), Seasonal Order: (0, 0, 0)\n"
     ]
    }
   ],
   "source": [
    "# These variables should come from user input / config\n",
    "StartDate = ufm_config.start_date\n",
    "EndDate = ufm_config.end_date\n",
    "Hyper_Parameters = ufm_config.model_parameters\n",
    "\n",
    "forecast_dates = get_forecast_range(StartDate, EndDate)\n",
    "arima_order, seasonal_order = extract_sarimax_params(Hyper_Parameters)"
   ]
  },
  {
   "cell_type": "code",
   "execution_count": null,
   "id": "4e0aff7e-c7b2-4d87-b8e4-5008b9386643",
   "metadata": {},
   "outputs": [],
   "source": [
    "if df.empty:\n",
    "    logging.error(\"🚫 DataFrame is empty. Check input filters or data source.\")\n",
    "else:\n",
    "    customer_ids, pod_ids = get_unique_list_of_customer_and_pod(df)\n",
    "\n",
    "    # These variables should come from user input / config\n",
    "    StartDate = ufm_config.start_date\n",
    "    EndDate = ufm_config.end_date\n",
    "    Hyper_Parameters = ufm_config.model_parameters\n",
    "\n",
    "    forecast_dates = get_forecast_range(StartDate, EndDate)\n",
    "    arima_order, seasonal_order = extract_sarimax_params(Hyper_Parameters)\n",
    "\n",
    "    # Extract actuals range\n",
    "    latest_actual_date = df.index.max()\n",
    "    logging.info(f\"📍 Last actuals month in data: {latest_actual_date.strftime('%Y-%m')}\")"
   ]
  },
  {
   "cell_type": "code",
   "execution_count": null,
   "id": "709ae12e8a600e14",
   "metadata": {},
   "outputs": [],
   "source": [
    "melted_df = get_melted_df(df)"
   ]
  },
  {
   "cell_type": "code",
   "execution_count": null,
   "id": "264fd62c90668135",
   "metadata": {},
   "outputs": [],
   "source": [
    "from visualization.time_series_tests import *\n",
    "from visualization.clustering import *"
   ]
  },
  {
   "cell_type": "code",
   "execution_count": null,
   "id": "954ee1243144d98c",
   "metadata": {},
   "outputs": [],
   "source": [
    "plot_consumption_trends(melted_df)"
   ]
  },
  {
   "cell_type": "markdown",
   "id": "4ef20ecf3ab0c539",
   "metadata": {},
   "source": [
    "📊 Visualization: Customer-Level Electricity Consumption Trends\n",
    "This chart shows how different types of electricity consumption evolve over time for a sample of top customers:\n",
    "\n",
    "🧩 Insights:\n",
    "Seasonal patterns are visible — especially in PeakConsumption and Block1Consumption.\n",
    "\n",
    "Customer behavior varies — some use more off-peak or flat-rate (NonTOU) power.\n",
    "\n",
    "Trends help you:\n",
    "\n",
    "Choose which features to forecast.\n",
    "\n",
    "Spot outliers or data quality issues.\n",
    "\n",
    "Guide model segmentation (e.g., cluster by consumption type)."
   ]
  },
  {
   "cell_type": "code",
   "execution_count": null,
   "id": "85504e8ee76ead5c",
   "metadata": {},
   "outputs": [],
   "source": [
    "plot_consumption_over_time(df)"
   ]
  },
  {
   "cell_type": "markdown",
   "id": "142d34e51eac1fde",
   "metadata": {},
   "source": [
    "📈 Individual Consumption Trends per Type (Top Customers)\n",
    "Each plot above shows how a specific consumption type evolves monthly for the top 4 customers. Here's what we can observe:\n",
    "\n",
    "🧠 Key Observations:\n",
    "PeakConsumption & Block1Consumption show clear periodic trends for some customers.\n",
    "\n",
    "Block2–Block4Consumption is flat or zero in many cases, indicating:\n",
    "\n",
    "Low usage customers not reaching higher billing tiers.\n",
    "\n",
    "Good candidates to drop or impute if doing dimensionality reduction.\n",
    "\n",
    "NonTOUConsumption is high and consistent for some — suggesting they are on flat-rate tariffs.\n",
    "\n",
    "🔍 Suggested Next Steps for EDA (Exploratory Data Analysis)\n",
    "Here’s a breakdown of what we should do to deepen understanding before modeling:\n",
    "\n",
    "✅ 1. Seasonality & Stationarity Checks\n",
    "Autocorrelation Plots (ACF, PACF) to detect periodicity.\n",
    "\n",
    "Augmented Dickey-Fuller Test for stationarity (needed for ARIMA/SARIMA).\n",
    "\n",
    "✅ 2. Missing Data / Anomaly Detection\n",
    "Check for missing months or sudden spikes.\n",
    "\n",
    "Plot z-scores or IQRs for each column to detect anomalies.\n",
    "\n",
    "✅ 3. Customer Segmentation\n",
    "Cluster customers based on consumption profiles (e.g., KMeans, t-SNE).\n",
    "\n",
    "Helps in building segmented models for better accuracy.\n",
    "\n",
    "✅ 4. Correlation Heatmap\n",
    "Explore correlation between consumption types.\n",
    "\n",
    "Can inform dimensionality reduction (e.g., PCA).\n",
    "\n",
    "✅ 5. Rolling Mean & Variance Plots\n",
    "Visualize changes in trend or volatility over time.\n",
    "\n",
    "Essential for model diagnostics.\n",
    "\n"
   ]
  },
  {
   "cell_type": "code",
   "execution_count": null,
   "id": "e87e7c78e040cfcf",
   "metadata": {},
   "outputs": [],
   "source": [
    "from statsmodels.graphics.tsaplots import plot_acf, plot_pacf\n",
    "from statsmodels.tsa.stattools import adfuller"
   ]
  },
  {
   "cell_type": "code",
   "execution_count": null,
   "id": "3db9040ccd7cecca",
   "metadata": {},
   "outputs": [],
   "source": [
    "ts, single_customer, cust_df = get_single_time_series_for_single_customer(df)"
   ]
  },
  {
   "cell_type": "code",
   "execution_count": null,
   "id": "a26a4469f2637e4b",
   "metadata": {},
   "outputs": [],
   "source": [
    "acf_and_pacf_plots(ts, single_customer)"
   ]
  },
  {
   "cell_type": "code",
   "execution_count": null,
   "id": "a9596710f44ef13f",
   "metadata": {},
   "outputs": [],
   "source": [
    "\n",
    "# 2. Augmented Dickey-Fuller Test for Stationarity\n",
    "adf_result = adfuller(ts.dropna())\n",
    "adf_output = {\n",
    "    'Test Statistic': adf_result[0],\n",
    "    'p-value': adf_result[1],\n",
    "    'Lags Used': adf_result[2],\n",
    "    'Number of Observations': adf_result[3],\n",
    "    'Critical Values': adf_result[4]\n",
    "}\n",
    "adf_output"
   ]
  },
  {
   "cell_type": "markdown",
   "id": "98b7b772f108d97c",
   "metadata": {},
   "source": [
    "✅ 1. ACF & PACF Results – PeakConsumption for Most Active Customer\n",
    "ACF (Autocorrelation Function) shows clear periodicity and gradual decay — a sign of seasonality.\n",
    "\n",
    "PACF (Partial Autocorrelation Function) shows a few significant lags, suggesting possible AR components."
   ]
  },
  {
   "cell_type": "markdown",
   "id": "31a6c9424eadcc68",
   "metadata": {},
   "source": [
    "✅ 2. Augmented Dickey-Fuller (ADF) Test for Stationarity\n",
    "📌 Interpretation:\n",
    "The ADF test statistic is much lower than the 1% threshold.\n",
    "\n",
    "The p-value is far below 0.05, which means:\n",
    "\n",
    "✅ The time series is stationary, and differencing is likely not needed.\n",
    "\n"
   ]
  },
  {
   "cell_type": "code",
   "execution_count": null,
   "id": "1c0966d6b8742e3f",
   "metadata": {},
   "outputs": [],
   "source": [
    "plot_correlation_matrix_of_consumption_types(df)"
   ]
  },
  {
   "cell_type": "markdown",
   "id": "c54f08a9248297bc",
   "metadata": {},
   "source": [
    "🔗 Correlation Matrix: Consumption Types\n",
    "📊 Insights:\n",
    "High correlation between:\n",
    "\n",
    "PeakConsumption and StandardConsumption → Similar temporal behavior.\n",
    "\n",
    "Block1 and StandardConsumption → Users often stay within the first tier during standard hours.\n",
    "\n",
    "Low or no correlation:\n",
    "\n",
    "Block3, Block4 show weaker correlations — these may be sparsely used or rare.\n",
    "\n",
    "NonTOUConsumption has moderate correlation with StandardConsumption, which is expected as both relate to consistent usage patterns.\n",
    "\n",
    "💡 Implications:\n",
    "Highly correlated features may be redundant in a predictive model.\n",
    "\n",
    "Dimensionality reduction (e.g., PCA) could be applied.\n",
    "\n",
    "You could choose a subset of these features to avoid multicollinearity."
   ]
  },
  {
   "cell_type": "code",
   "execution_count": null,
   "id": "71093d19ac7ef059",
   "metadata": {},
   "outputs": [],
   "source": [
    "# 4. Rolling Mean & Variance for PeakConsumption of selected customer\n",
    "ts = cust_df.set_index('ReportingMonth')['PeakConsumption']\n",
    "rolling_statistics(ts, single_customer, window_size = 6 )"
   ]
  },
  {
   "cell_type": "markdown",
   "id": "fe821b3864d966a7",
   "metadata": {},
   "source": [
    "📉 Rolling Statistics: PeakConsumption for Selected Customer\n",
    "📌 Interpretation:\n",
    "Rolling Mean shows smooth seasonality with some upward and downward trends, indicating non-constant behavior over time.\n",
    "\n",
    "Rolling Std Dev (volatility) varies, with peaks suggesting unusual or variable months.\n",
    "\n",
    "🧠 Why This Matters:\n",
    "Helps diagnose trend and heteroskedasticity (changing variance).\n",
    "\n",
    "If using models like ARIMA or LSTM, rolling stats inform:\n",
    "\n",
    "Whether differencing or transformations are needed.\n",
    "\n",
    "Where to apply smoothing or anomaly detection.\n",
    "\n"
   ]
  },
  {
   "cell_type": "code",
   "execution_count": null,
   "id": "64a9921b8c127ca0",
   "metadata": {},
   "outputs": [],
   "source": [
    "customer_segmentation(df)"
   ]
  },
  {
   "cell_type": "code",
   "execution_count": null,
   "id": "b04f8494-5122-4c4d-9149-9197b2674c5b",
   "metadata": {},
   "outputs": [],
   "source": [
    "from modeling.autoarima import automated_forecasts_for_all_types"
   ]
  },
  {
   "cell_type": "code",
   "execution_count": null,
   "id": "f0c8db46-e1a9-4c1a-a59e-cafd35fc036e",
   "metadata": {
    "scrolled": true
   },
   "outputs": [],
   "source": [
    "forecast_combined_df = automated_forecasts_for_all_types(df, selected_columns,forecast_dates)"
   ]
  },
  {
   "cell_type": "code",
   "execution_count": null,
   "id": "78764b69-b220-4fe6-86d6-0e7a6b0a68a5",
   "metadata": {},
   "outputs": [],
   "source": [
    "# forecast_combined_df"
   ]
  },
  {
   "cell_type": "code",
   "execution_count": null,
   "id": "9581870e-5c63-4ca4-8438-2b79655ee551",
   "metadata": {},
   "outputs": [],
   "source": []
  }
 ],
 "metadata": {
  "kernelspec": {
   "display_name": "data_science",
   "language": "python",
   "name": "data_science"
  },
  "language_info": {
   "codemirror_mode": {
    "name": "ipython",
    "version": 3
   },
   "file_extension": ".py",
   "mimetype": "text/x-python",
   "name": "python",
   "nbconvert_exporter": "python",
   "pygments_lexer": "ipython3",
   "version": "3.10.16"
  }
 },
 "nbformat": 4,
 "nbformat_minor": 5
}
